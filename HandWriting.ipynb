{
  "nbformat": 4,
  "nbformat_minor": 0,
  "metadata": {
    "colab": {
      "name": "Untitled",
      "provenance": [],
      "collapsed_sections": [],
      "authorship_tag": "ABX9TyPmBFTT0z7HR37+7ePj0ZnY",
      "include_colab_link": true
    },
    "kernelspec": {
      "name": "python3",
      "display_name": "Python 3"
    },
    "accelerator": "GPU"
  },
  "cells": [
    {
      "cell_type": "markdown",
      "metadata": {
        "id": "view-in-github",
        "colab_type": "text"
      },
      "source": [
        "<a href=\"https://colab.research.google.com/github/AhmedAli288/0-9-Handwriting-Recognition/blob/master/HandWriting.ipynb\" target=\"_parent\"><img src=\"https://colab.research.google.com/assets/colab-badge.svg\" alt=\"Open In Colab\"/></a>"
      ]
    },
    {
      "cell_type": "code",
      "metadata": {
        "id": "QAggEyn_R83K",
        "colab_type": "code",
        "colab": {}
      },
      "source": [
        "!pip install tensorflow keras numpy mnist matplotlib"
      ],
      "execution_count": null,
      "outputs": []
    },
    {
      "cell_type": "code",
      "metadata": {
        "id": "GN8ExYteoWE9",
        "colab_type": "code",
        "colab": {}
      },
      "source": [
        "!pip install --upgrade mnist"
      ],
      "execution_count": null,
      "outputs": []
    },
    {
      "cell_type": "code",
      "metadata": {
        "id": "-xRXQzgdpH-T",
        "colab_type": "code",
        "colab": {
          "base_uri": "https://localhost:8080/",
          "height": 34
        },
        "outputId": "af9d420c-c41f-4bf6-c9e6-5f06c75c6199"
      },
      "source": [
        "import numpy as np\n",
        "from tensorflow.keras.datasets import mnist\n",
        "import matplotlib.pyplot as plt\n",
        "from keras.models import Sequential\n",
        "from keras.layers import Dense\n",
        "from keras.utils import to_categorical"
      ],
      "execution_count": 2,
      "outputs": [
        {
          "output_type": "stream",
          "text": [
            "Using TensorFlow backend.\n"
          ],
          "name": "stderr"
        }
      ]
    },
    {
      "cell_type": "code",
      "metadata": {
        "id": "TKXUbpbLpNH7",
        "colab_type": "code",
        "colab": {}
      },
      "source": [
        "#data_sets\n",
        "train_images = mnist.train_images()\n",
        "train_labels = mnist.train_labels()\n",
        "test_images = mnist.test_images()\n",
        "test_labels = mnist.test_labels()"
      ],
      "execution_count": null,
      "outputs": []
    },
    {
      "cell_type": "code",
      "metadata": {
        "id": "egGth3YYrNV2",
        "colab_type": "code",
        "colab": {
          "base_uri": "https://localhost:8080/",
          "height": 51
        },
        "outputId": "ab51a49b-369d-4bf5-a65c-9555fd4f2784"
      },
      "source": [
        "#normalizing\n",
        "train_images = (train_images/255) - 0.5\n",
        "test_images = (test_images/255) - 0.5\n",
        "\n",
        "# flatten the images\n",
        "train_images = train_images.reshape((-1,784))\n",
        "test_images = test_images.reshape((-1,784))\n",
        "\n",
        "#print shape\n",
        "print(train_images.shape)\n",
        "print(test_images.shape)"
      ],
      "execution_count": null,
      "outputs": [
        {
          "output_type": "stream",
          "text": [
            "(60000, 784)\n",
            "(10000, 784)\n"
          ],
          "name": "stdout"
        }
      ]
    },
    {
      "cell_type": "code",
      "metadata": {
        "id": "hgeoV2DOtny1",
        "colab_type": "code",
        "colab": {}
      },
      "source": [
        "# model of 3 layers\n",
        "# 2 layers with 60 neurons and last with 10 neurons\n",
        "# 2 layers will have relu function and last will have softmax function\n",
        "model = Sequential()\n",
        "model.add(Dense(60, activation='relu', input_dim = 784))\n",
        "model.add(Dense(60, activation='relu'))\n",
        "model.add(Dense(10, activation='softmax'))"
      ],
      "execution_count": null,
      "outputs": []
    },
    {
      "cell_type": "code",
      "metadata": {
        "id": "TJCgbZiSuvFR",
        "colab_type": "code",
        "colab": {}
      },
      "source": [
        "# compile the model\n",
        "# loss Function\n",
        "model.compile(\n",
        "    optimizer = 'adam',\n",
        "    loss = 'categorical_crossentropy',\n",
        "    metrics = ['accuracy']\n",
        ")"
      ],
      "execution_count": null,
      "outputs": []
    },
    {
      "cell_type": "code",
      "metadata": {
        "id": "GlG1wo4Fvxfo",
        "colab_type": "code",
        "colab": {
          "base_uri": "https://localhost:8080/",
          "height": 272
        },
        "outputId": "9302d824-6f2f-4ecf-a539-6c826961aea4"
      },
      "source": [
        "# model training\n",
        "model.fit(\n",
        "    train_images,\n",
        "    to_categorical(train_labels), # examples: it expects 3 to be [0,1,1,0,0,0,0,0,0,0]\n",
        "                                  # it expects 2 to be [0,0,1,0,0,0,0,0,0,0]\n",
        "    epochs = 7,\n",
        "    batch_size = 32, # number of samples it takes in one time in each iteration\n",
        ")"
      ],
      "execution_count": null,
      "outputs": [
        {
          "output_type": "stream",
          "text": [
            "Epoch 1/7\n",
            "60000/60000 [==============================] - 6s 107us/step - loss: 0.3636 - accuracy: 0.8912\n",
            "Epoch 2/7\n",
            "60000/60000 [==============================] - 5s 80us/step - loss: 0.1893 - accuracy: 0.9431\n",
            "Epoch 3/7\n",
            "60000/60000 [==============================] - 5s 81us/step - loss: 0.1477 - accuracy: 0.9541\n",
            "Epoch 4/7\n",
            "60000/60000 [==============================] - 5s 81us/step - loss: 0.1281 - accuracy: 0.9608\n",
            "Epoch 5/7\n",
            "60000/60000 [==============================] - 5s 81us/step - loss: 0.1148 - accuracy: 0.9638\n",
            "Epoch 6/7\n",
            "60000/60000 [==============================] - 5s 82us/step - loss: 0.1017 - accuracy: 0.9679\n",
            "Epoch 7/7\n",
            "60000/60000 [==============================] - 5s 82us/step - loss: 0.0933 - accuracy: 0.9703\n"
          ],
          "name": "stdout"
        },
        {
          "output_type": "execute_result",
          "data": {
            "text/plain": [
              "<keras.callbacks.callbacks.History at 0x7f15db3cd630>"
            ]
          },
          "metadata": {
            "tags": []
          },
          "execution_count": 18
        }
      ]
    },
    {
      "cell_type": "code",
      "metadata": {
        "id": "YPHlfQLfyAmL",
        "colab_type": "code",
        "colab": {
          "base_uri": "https://localhost:8080/",
          "height": 68
        },
        "outputId": "524898ac-f3d7-4896-e35b-72d42fa1a654"
      },
      "source": [
        "# test evaluation\n",
        "model.fit(\n",
        "    test_images,\n",
        "    to_categorical(test_labels)\n",
        ")"
      ],
      "execution_count": null,
      "outputs": [
        {
          "output_type": "stream",
          "text": [
            "Epoch 1/1\n",
            "10000/10000 [==============================] - 1s 81us/step - loss: 0.0675 - accuracy: 0.9783\n"
          ],
          "name": "stdout"
        },
        {
          "output_type": "execute_result",
          "data": {
            "text/plain": [
              "<keras.callbacks.callbacks.History at 0x7f157e277e48>"
            ]
          },
          "metadata": {
            "tags": []
          },
          "execution_count": 21
        }
      ]
    },
    {
      "cell_type": "code",
      "metadata": {
        "id": "kxAax3YZzD0T",
        "colab_type": "code",
        "colab": {
          "base_uri": "https://localhost:8080/",
          "height": 51
        },
        "outputId": "cb12d32e-cc87-4f9f-d8f1-3629be8c4742"
      },
      "source": [
        "# predictions\n",
        "predictions = model.predict(test_images[59:64])\n",
        "print(np.argmax(predictions, axis = 1))\n",
        "print(test_labels[59:64])"
      ],
      "execution_count": null,
      "outputs": [
        {
          "output_type": "stream",
          "text": [
            "[5 7 8 9 3]\n",
            "[5 7 8 9 3]\n"
          ],
          "name": "stdout"
        }
      ]
    },
    {
      "cell_type": "code",
      "metadata": {
        "id": "JTNYM2bA6WiJ",
        "colab_type": "code",
        "colab": {
          "base_uri": "https://localhost:8080/",
          "height": 1000
        },
        "outputId": "cf09aa42-590a-4b33-bd9b-6a1c5d478683"
      },
      "source": [
        "for i in range(59,64):\n",
        "  image = test_images[i]\n",
        "  image = np.array(image, dtype='float')\n",
        "  pixel = image.reshape((28,28))\n",
        "  plt.imshow(pixel, cmap = 'gray')\n",
        "  plt.show()\n"
      ],
      "execution_count": null,
      "outputs": [
        {
          "output_type": "display_data",
          "data": {
            "image/png": "[encoded data removed]",
            "text/plain": [
              "<Figure size 432x288 with 1 Axes>"
            ]
          },
          "metadata": {
            "tags": [],
            "needs_background": "light"
          }
        },
        {
          "output_type": "display_data",
          "data": {
            "image/png": "[encoded data removed]",
            "text/plain": [
              "<Figure size 432x288 with 1 Axes>"
            ]
          },
          "metadata": {
            "tags": [],
            "needs_background": "light"
          }
        },
        {
          "output_type": "display_data",
          "data": {
            "image/png": "[encoded data removed]",
            "text/plain": [
              "<Figure size 432x288 with 1 Axes>"
            ]
          },
          "metadata": {
            "tags": [],
            "needs_background": "light"
          }
        },
        {
          "output_type": "display_data",
          "data": {
            "image/png": "[encoded data removed]",
            "text/plain": [
              "<Figure size 432x288 with 1 Axes>"
            ]
          },
          "metadata": {
            "tags": [],
            "needs_background": "light"
          }
        },
        {
          "output_type": "display_data",
          "data": {
            "image/png": "[encoded data removed]",
            "text/plain": [
              "<Figure size 432x288 with 1 Axes>"
            ]
          },
          "metadata": {
            "tags": [],
            "needs_background": "light"
          }
        }
      ]
    }
  ]
}